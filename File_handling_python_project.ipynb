{
  "nbformat": 4,
  "nbformat_minor": 0,
  "metadata": {
    "colab": {
      "provenance": [],
      "authorship_tag": "ABX9TyMNbv0gZX2hbf83Jgc0kuMg",
      "include_colab_link": true
    },
    "kernelspec": {
      "name": "python3",
      "display_name": "Python 3"
    },
    "language_info": {
      "name": "python"
    }
  },
  "cells": [
    {
      "cell_type": "markdown",
      "metadata": {
        "id": "view-in-github",
        "colab_type": "text"
      },
      "source": [
        "<a href=\"https://colab.research.google.com/github/Gaks978/Data-Science-Projects/blob/main/File_handling_python_project.ipynb\" target=\"_parent\"><img src=\"https://colab.research.google.com/assets/colab-badge.svg\" alt=\"Open In Colab\"/></a>"
      ]
    },
    {
      "cell_type": "markdown",
      "source": [
        "What You're Aiming For\n",
        "\n",
        "In this exercise, you will expand on the basic calculator program by adding more advanced mathematical operations and error handling using object-oriented programming.\n",
        "\n",
        "\n",
        "Instructions\n",
        "\n",
        "\n",
        "Create a class called \"Calculator\" that contains the following:\n",
        "\n",
        "A dictionary attribute to store the available mathematical operations and their corresponding functions\n",
        "\n",
        "A method called \"init\" that initializes the dictionary with the basic mathematical operations (+, -, *, /) and corresponding functions\n",
        "\n",
        "A method called \"add_operation\" that takes in two arguments: the operation symbol and the corresponding function. This method should add the new operation and function to the dictionary.\n",
        "\n",
        "A method called \"calculate\" that takes in three arguments: the first number, the operation symbol, and the second number. This method should use the dictionary to determine the appropriate function to perform the calculation. It should also include error handling to check if the operation symbol is valid and if the input values are numbers. If an error is encountered, the method should print an error message and raise an exception.\n",
        "\n",
        "Create separate functions for the advanced mathematical operations (exponentiation, square root, logarithm) and use the \"add_operation\" method to add them to the calculator's dictionary.\n",
        "\n",
        "In the main program, create an instance of the Calculator class, and use a while loop that allows the user to continue performing calculations until they choose to exit.\n",
        "\n",
        "Use the input() function to get input from the user for the numbers and operation symbol.\n",
        "\n",
        "Use the math library for advanced mathematical operations\n",
        "\n",
        "Use the isinstance() function to check if the input is a number."
      ],
      "metadata": {
        "id": "PfZlt6YwFkVB"
      }
    },
    {
      "cell_type": "code",
      "execution_count": null,
      "metadata": {
        "colab": {
          "base_uri": "https://localhost:8080/"
        },
        "id": "8IeBv8D8UMsi",
        "outputId": "2aab27a0-56f7-4ce3-c1b0-0ca9e41f11a8"
      },
      "outputs": [
        {
          "output_type": "stream",
          "name": "stdout",
          "text": [
            "Welcome to the Calculator! Type 'exit' at any time to quit.\n",
            "Enter the first number: 5\n",
            "Enter an operation (+, -, *, /, ^, √, log): ^\n",
            "Enter the second number: 8\n",
            "Result: 390625.0\n",
            "\n"
          ]
        }
      ],
      "source": [
        "import math\n",
        "\n",
        "class Calculator:\n",
        "    def __init__(self):\n",
        "        self.operations = {\n",
        "            '+': lambda x, y: x + y,\n",
        "            '-': lambda x, y: x - y,\n",
        "            '*': lambda x, y: x * y,\n",
        "            '/': lambda x, y: x / y if y != 0 else float('inf')  # Handle division by zero\n",
        "        }\n",
        "\n",
        "    def add_operation(self, symbol, func):\n",
        "        self.operations[symbol] = func\n",
        "\n",
        "    def calculate(self, num1, op, num2=None):\n",
        "        if op not in self.operations:\n",
        "            print(f\"Error: '{op}' is not a supported operation.\")\n",
        "            raise ValueError(\"Invalid operation\")\n",
        "\n",
        "        if not isinstance(num1, (int, float)) or (num2 is not None and not isinstance(num2, (int, float))):\n",
        "            print(\"Error: One or both of the inputs are not numbers.\")\n",
        "            raise TypeError(\"Inputs must be numbers\")\n",
        "\n",
        "        func = self.operations[op]\n",
        "        return func(num1, num2) if num2 is not None else func(num1)\n",
        "\n",
        "\n",
        "# --- Advanced Operations ---\n",
        "def power(x, y):\n",
        "    return math.pow(x, y)\n",
        "\n",
        "def square_root(x, _=None):  # Accept 2 args for compatibility\n",
        "    return math.sqrt(x)\n",
        "\n",
        "def logarithm(x, _=None):  # Base 10 logarithm\n",
        "    return math.log10(x)\n",
        "\n",
        "\n",
        "# --- Main Program ---\n",
        "calc = Calculator()\n",
        "calc.add_operation('^', power)\n",
        "calc.add_operation('√', square_root)\n",
        "calc.add_operation('log', logarithm)\n",
        "\n",
        "print(\"Welcome to the Calculator! Type 'exit' at any time to quit.\")\n",
        "\n",
        "while True:\n",
        "    try:\n",
        "        input1 = input(\"Enter the first number: \")\n",
        "        if input1.lower() == 'exit':\n",
        "            break\n",
        "        num1 = float(input1)\n",
        "\n",
        "        op = input(\"Enter an operation (+, -, *, /, ^, √, log): \")\n",
        "        if op.lower() == 'exit':\n",
        "            break\n",
        "\n",
        "        num2 = None\n",
        "        if op not in ['√', 'log']:  # These need only one number\n",
        "            input2 = input(\"Enter the second number: \")\n",
        "            if input2.lower() == 'exit':\n",
        "                break\n",
        "            num2 = float(input2)\n",
        "\n",
        "        result = calc.calculate(num1, op, num2)\n",
        "        print(f\"Result: {result}\\n\")\n",
        "\n",
        "    except Exception as e:\n",
        "        print(f\"Calculation failed: {e}\\n\")\n"
      ]
    }
  ]
}