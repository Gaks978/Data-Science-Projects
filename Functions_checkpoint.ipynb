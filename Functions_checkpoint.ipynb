{
  "nbformat": 4,
  "nbformat_minor": 0,
  "metadata": {
    "colab": {
      "provenance": [],
      "authorship_tag": "ABX9TyParHwavoG4jVwpjas5S+Zu",
      "include_colab_link": true
    },
    "kernelspec": {
      "name": "python3",
      "display_name": "Python 3"
    },
    "language_info": {
      "name": "python"
    }
  },
  "cells": [
    {
      "cell_type": "markdown",
      "metadata": {
        "id": "view-in-github",
        "colab_type": "text"
      },
      "source": [
        "<a href=\"https://colab.research.google.com/github/Gaks978/Data-Science-Projects/blob/main/Functions_checkpoint.ipynb\" target=\"_parent\"><img src=\"https://colab.research.google.com/assets/colab-badge.svg\" alt=\"Open In Colab\"/></a>"
      ]
    },
    {
      "cell_type": "markdown",
      "source": [
        "What You're Aiming For\n",
        "\n",
        "The objective is to create a simple calculator application in Python that can perform basic arithmetic operations such as addition, subtraction, multiplication, and division.\n",
        "\n",
        "\n",
        "\n",
        "Description\n",
        "\n",
        "This exercise involves creating a simple calculator app using Python. The app should be able to perform addition, subtraction, multiplication, and division operations. It will prompt the user to input two numbers and an arithmetic operator, then perform the corresponding operation on the numbers and return the result.\n",
        "\n",
        "Example :\n",
        "\n",
        "Input:\n",
        "\n",
        "Enter the first number: 10\n",
        "\n",
        "Enter the second number: 5\n",
        "\n",
        "Enter the operator (+, -, *, /): *\n",
        "\n",
        "Output:\n",
        "\n",
        "The result is: 50\n",
        "\n",
        "\n",
        "Instructions\n",
        "\n",
        "\n",
        "Open a new Python file in your preferred code editor.\n",
        "\n",
        "Define a function called \"calculator\" that takes two arguments, \"num1\" and \"num2\".\n",
        "\n",
        "Within the function, prompt the user to enter an operator (+, -, *, /).\n",
        "\n",
        "Use conditional statements to determine which operation to perform based on the user's input.\n",
        "\n",
        "Return the result of the operation.\n",
        "\n",
        "Call the function calculator with two numbers and print the result.\n",
        "\n",
        "Handle cases where the user inputs invalid operators or tries to divide by zero.\n",
        "Note:\n",
        "\n",
        "You may want to use a \"while\" loop to allow the user to roll the dice multiple times, or to add some messages to make the program more user-friendly."
      ],
      "metadata": {
        "id": "_sH6WGUQGnhU"
      }
    },
    {
      "cell_type": "code",
      "source": [
        "def calculator(num1, num2):\n",
        "  operator = input(\"Enter operator (+, -, *, /): \")\n",
        "\n",
        "  if operator == \"+\":\n",
        "    return num1 + num2\n",
        "  elif operator == \"-\":\n",
        "    return num1 - num2\n",
        "  elif operator == \"*\":\n",
        "    return num1 * num2\n",
        "  elif operator == \"/\":\n",
        "    if num2 == 0:\n",
        "      return \"Cannot divide by zero\"\n",
        "    else:\n",
        "      return num1 / num2\n",
        "  else:\n",
        "    return \"Invalid operator\"\n",
        "\n",
        "while True:\n",
        "  num1 = float(input(\"Enter first number: \"))\n",
        "  num2 = float(input(\"Enter second number: \"))\n",
        "  result = calculator(num1, num2)\n",
        "  print(f\"The reult is: {result}\")"
      ],
      "metadata": {
        "id": "0Xc6A-fv7tng",
        "colab": {
          "base_uri": "https://localhost:8080/"
        },
        "collapsed": true,
        "outputId": "7ef3b312-29b7-4a71-a8ce-3c28a29ef631"
      },
      "execution_count": null,
      "outputs": [
        {
          "output_type": "stream",
          "name": "stdout",
          "text": [
            "Enter first number: 65\n",
            "Enter second number: 78\n",
            "Enter operator (+, -, *, /): /\n",
            "The reult is: 0.8333333333333334\n"
          ]
        }
      ]
    }
  ]
}