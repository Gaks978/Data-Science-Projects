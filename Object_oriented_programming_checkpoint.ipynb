{
  "nbformat": 4,
  "nbformat_minor": 0,
  "metadata": {
    "colab": {
      "provenance": [],
      "authorship_tag": "ABX9TyP081zC+t8Y0DPfk69fYVpb",
      "include_colab_link": true
    },
    "kernelspec": {
      "name": "python3",
      "display_name": "Python 3"
    },
    "language_info": {
      "name": "python"
    }
  },
  "cells": [
    {
      "cell_type": "markdown",
      "metadata": {
        "id": "view-in-github",
        "colab_type": "text"
      },
      "source": [
        "<a href=\"https://colab.research.google.com/github/Gaks978/Data-Science-Projects/blob/main/Object_oriented_programming_checkpoint.ipynb\" target=\"_parent\"><img src=\"https://colab.research.google.com/assets/colab-badge.svg\" alt=\"Open In Colab\"/></a>"
      ]
    },
    {
      "cell_type": "markdown",
      "source": [
        "What You're Aiming For\n",
        "\n",
        "The objective is to create a Python class named \"Account\" with methods for depositing, withdrawing, and checking balances, encapsulated in a script called \"bank_account.py\" to simulate basic bank account operations.\n",
        "\n",
        "\n",
        "\n",
        "Create a class called \"Account\" that has the following attributes:\n",
        "\n",
        "account_number (string)\n",
        "\n",
        "account_balance (float)\n",
        "\n",
        "account_holder (string)\n",
        "\n",
        "The class should have the following methods:\n",
        "\n",
        "deposit(amount: float) - This method should add the amount passed as an argument to the account balance.\n",
        "\n",
        "withdraw(amount: float) - This method should subtract the amount passed as an argument from the account balance, but only if the account balance is greater than the amount being withdrawn.\n",
        "\n",
        "check_balance() - This method should return the current account balance.\n",
        "\n",
        "Instructions\n",
        "\n",
        "\n",
        "Define the Account class and its attributes as specified above.\n",
        "\n",
        "Define the deposit() method. It should take in one argument, the amount to be deposited, and add it to the account balance.\n",
        "\n",
        "Define the withdraw() method. It should take in one argument, the amount to be withdrawn, and subtract it from the account balance. The method should only execute the withdrawal if the account balance is greater than or equal to the amount to be withdrawn.\n",
        "\n",
        "Define the check_balance() method. It should return the current account balance.\n",
        "\n",
        "Create an instance of the Account class, and assign it to a variable called \"my_account\".\n",
        "\n",
        "Use the methods of the class to deposit and withdraw money from the account, and check the account balance.\n",
        "\n",
        "Test the program by creating multiple instances of the class and performing different transactions on them."
      ],
      "metadata": {
        "id": "5hs4wfj3JVex"
      }
    },
    {
      "cell_type": "code",
      "source": [
        "class Account:\n",
        "    def __init__(self, account_number, account_balance, account_holder):\n",
        "        self.account_number = account_number\n",
        "        self.account_balance = account_balance\n",
        "        self.account_holder = account_holder\n",
        "\n",
        "    def deposit(self, amount):\n",
        "        return {self.account_balance + float(amount)}\n",
        "\n",
        "    def withdraw(self, amount):\n",
        "        if self.account_balance >= amount:\n",
        "            return {self.account_balance - float(amount)}\n",
        "        else:\n",
        "            return \"Insufficient funds\"\n",
        "\n",
        "    def check_balance(self):\n",
        "        return {self.account_balance}\n",
        "\n",
        "my_account = Account(\"06434123\", 900000, \"Alex Gakenga\")\n",
        "my_account.deposit(200000)"
      ],
      "metadata": {
        "colab": {
          "base_uri": "https://localhost:8080/"
        },
        "id": "X2vFU3F4E9DQ",
        "outputId": "ddb10a26-1d51-414c-d480-41a220b152f8"
      },
      "execution_count": null,
      "outputs": [
        {
          "output_type": "execute_result",
          "data": {
            "text/plain": [
              "{1100000.0}"
            ]
          },
          "metadata": {},
          "execution_count": 11
        }
      ]
    },
    {
      "cell_type": "code",
      "source": [
        "my_account.withdraw(500000)"
      ],
      "metadata": {
        "colab": {
          "base_uri": "https://localhost:8080/"
        },
        "id": "KFsMbvFZcxFa",
        "outputId": "fbbdb8cc-a9e5-4f4d-b4bf-1b8ba7ca4ea2"
      },
      "execution_count": null,
      "outputs": [
        {
          "output_type": "execute_result",
          "data": {
            "text/plain": [
              "{400000.0}"
            ]
          },
          "metadata": {},
          "execution_count": 12
        }
      ]
    },
    {
      "cell_type": "code",
      "source": [
        "my_account.check_balance()"
      ],
      "metadata": {
        "colab": {
          "base_uri": "https://localhost:8080/"
        },
        "id": "YM83gSnCc7ue",
        "outputId": "b75ac344-4c49-4ce4-cef4-4018c77038d6"
      },
      "execution_count": null,
      "outputs": [
        {
          "output_type": "execute_result",
          "data": {
            "text/plain": [
              "{900000}"
            ]
          },
          "metadata": {},
          "execution_count": 13
        }
      ]
    },
    {
      "cell_type": "code",
      "source": [
        "Kyrie_account = Account(\"04876348\", 300000000, \"Kyrie Irving\")\n",
        "Kyrie_account.withdraw(10000000)"
      ],
      "metadata": {
        "colab": {
          "base_uri": "https://localhost:8080/"
        },
        "id": "yYE2kIKnhHG2",
        "outputId": "732a1e1a-8402-45a4-c08a-ca5110b51130"
      },
      "execution_count": null,
      "outputs": [
        {
          "output_type": "execute_result",
          "data": {
            "text/plain": [
              "{290000000.0}"
            ]
          },
          "metadata": {},
          "execution_count": 15
        }
      ]
    },
    {
      "cell_type": "code",
      "source": [
        "Kyrie_account.check_balance()"
      ],
      "metadata": {
        "colab": {
          "base_uri": "https://localhost:8080/"
        },
        "id": "QGM3L0LTii4b",
        "outputId": "ccbbff94-9000-4d8b-f3e7-1c96f5f2bdd1"
      },
      "execution_count": null,
      "outputs": [
        {
          "output_type": "execute_result",
          "data": {
            "text/plain": [
              "{300000000}"
            ]
          },
          "metadata": {},
          "execution_count": 17
        }
      ]
    },
    {
      "cell_type": "code",
      "source": [
        "Anthony_account = Account(\"05657483\", 400000000, \"Anthony Davis\")\n",
        "Anthony_account.withdraw(600000000)"
      ],
      "metadata": {
        "colab": {
          "base_uri": "https://localhost:8080/",
          "height": 36
        },
        "id": "crVDXYqai15N",
        "outputId": "5039fe54-a2d0-4182-c42a-09c6412da594"
      },
      "execution_count": null,
      "outputs": [
        {
          "output_type": "execute_result",
          "data": {
            "text/plain": [
              "'Insufficient funds'"
            ],
            "application/vnd.google.colaboratory.intrinsic+json": {
              "type": "string"
            }
          },
          "metadata": {},
          "execution_count": 18
        }
      ]
    },
    {
      "cell_type": "code",
      "source": [
        "Luka_account = Account(\"02764737\", 1000000000, \"Luka Doncic\")\n",
        "Luka_account.deposit(10000000)"
      ],
      "metadata": {
        "colab": {
          "base_uri": "https://localhost:8080/"
        },
        "id": "yioM46F1j8AY",
        "outputId": "3a6e563b-2d3e-4394-87be-8e73e021075f"
      },
      "execution_count": null,
      "outputs": [
        {
          "output_type": "execute_result",
          "data": {
            "text/plain": [
              "{1010000000.0}"
            ]
          },
          "metadata": {},
          "execution_count": 19
        }
      ]
    },
    {
      "cell_type": "code",
      "source": [
        "Luka_account.check_balance()"
      ],
      "metadata": {
        "colab": {
          "base_uri": "https://localhost:8080/"
        },
        "id": "epppuwxekf8H",
        "outputId": "b3e0f249-c53a-448a-d285-31358be1de3d"
      },
      "execution_count": null,
      "outputs": [
        {
          "output_type": "execute_result",
          "data": {
            "text/plain": [
              "{1000000000}"
            ]
          },
          "metadata": {},
          "execution_count": 20
        }
      ]
    },
    {
      "cell_type": "code",
      "source": [
        "Luka_account.withdraw(1000000000)"
      ],
      "metadata": {
        "colab": {
          "base_uri": "https://localhost:8080/"
        },
        "id": "j5LGKRMzkvxJ",
        "outputId": "cc427444-1699-4255-d37b-2c95d64e21d8"
      },
      "execution_count": null,
      "outputs": [
        {
          "output_type": "execute_result",
          "data": {
            "text/plain": [
              "{0.0}"
            ]
          },
          "metadata": {},
          "execution_count": 21
        }
      ]
    }
  ]
}