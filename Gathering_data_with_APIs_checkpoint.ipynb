{
  "nbformat": 4,
  "nbformat_minor": 0,
  "metadata": {
    "colab": {
      "provenance": [],
      "authorship_tag": "ABX9TyNnlCwb6ub9JNYgjzI87k7D",
      "include_colab_link": true
    },
    "kernelspec": {
      "name": "python3",
      "display_name": "Python 3"
    },
    "language_info": {
      "name": "python"
    }
  },
  "cells": [
    {
      "cell_type": "markdown",
      "metadata": {
        "id": "view-in-github",
        "colab_type": "text"
      },
      "source": [
        "<a href=\"https://colab.research.google.com/github/Gaks978/Data-Science-Projects/blob/main/Gathering_data_with_APIs_checkpoint.ipynb\" target=\"_parent\"><img src=\"https://colab.research.google.com/assets/colab-badge.svg\" alt=\"Open In Colab\"/></a>"
      ]
    },
    {
      "cell_type": "markdown",
      "source": [
        "What You're Aiming For\n",
        "\n",
        "The objective  is to practice accessing and using NASA's public APIs to retrieve and manipulate space-related data, including obtaining an API key, making API requests, processing data into a pandas DataFrame, and exporting the results to a CSV file for sharing.\n",
        "\n",
        "\n",
        "Instructions\n",
        "\n",
        "In this checkpoint, we are going to practice consuming public APIs through the NASA public APIs portal.\n",
        "\n",
        "Portal description : The objective of this portal is to make NASA data, including imagery, eminently accessible to application developers and data professionals. Before starting to use its APIs endpoints, it's mandatory that you generate your API KEY and store it somewhere for later use. The API key acts as the user identifier when requesting the API. To get your KEY, fill in the provided form with your personal information, and then you shall receive an email containing your personal API KEY.\n",
        "\n",
        "➡️ NASA API PORTAL\n",
        "\n",
        "https://i.imgur.com/hisTmpk.png\n",
        "\n",
        "\n",
        "\n",
        "Go to the NASA API portal and generate your API KEY\n",
        "\n",
        "Import the requests package and store your API KEY in variable\n",
        "\n",
        "Go back to portal website and click on 'browse APIs'\n",
        "\n",
        "Click on the first dropdown menu, named 'APOD' and read its documentation\n",
        "\n",
        "Follow the provided documentation to ask the API endpoint for the astronomy picture of the day. Get then display the image on your notebook.\n",
        "\n",
        "Go through the list of the provided API endpoints once again and select 'Asteroids - NeoWs' option. Store the results in a pandas dataframe.\n",
        "\n",
        "Do the necessary data pre-processing tasks on the previous result in order to get a clean dataframe with the following columns :\n",
        "\n",
        "Asteroid ID\n",
        "\n",
        "Asteroid name\n",
        "\n",
        "The Minimal estimated diameter in Kilometre\n",
        "\n",
        "Absolute_magnitude\n",
        "\n",
        "Relative_velocity(km/s)\n",
        "\n",
        "Try to export the new dataframe into a CSV file and share it with your colleagues"
      ],
      "metadata": {
        "id": "VS2aDTokHUVu"
      }
    },
    {
      "cell_type": "code",
      "execution_count": null,
      "metadata": {
        "colab": {
          "base_uri": "https://localhost:8080/"
        },
        "id": "E3jysulZvabS",
        "outputId": "a29814f2-773d-4a64-c7e9-1600abb95b85"
      },
      "outputs": [
        {
          "output_type": "stream",
          "name": "stdout",
          "text": [
            "Image URL: https://apod.nasa.gov/apod/image/2504/PIA21983JupiterLundh1024.jpg\n"
          ]
        }
      ],
      "source": [
        "import requests\n",
        "import pandas as pd\n",
        "API_KEY = \"WJuOwesj8W9ADRabegnQkfWsQgIJTP6O95lT6KRA\"\n",
        "apod_url = \"https://api.nasa.gov/planetary/apod?api_key=WJuOwesj8W9ADRabegnQkfWsQgIJTP6O95lT6KRA\"\n",
        "response = requests.get(apod_url)\n",
        "apod_data = response.json()\n",
        "\n",
        "# Displaying the image\n",
        "print(\"Image URL:\", apod_data['url'])"
      ]
    },
    {
      "cell_type": "code",
      "source": [
        "from IPython.display import Image, display\n",
        "display(Image(url=apod_data['url']))"
      ],
      "metadata": {
        "colab": {
          "base_uri": "https://localhost:8080/",
          "height": 662
        },
        "id": "4EKMBDwn-TBz",
        "outputId": "ad2b2dc4-4349-4f5d-b63b-c2c7c7ca1717"
      },
      "execution_count": null,
      "outputs": [
        {
          "output_type": "display_data",
          "data": {
            "text/html": [
              "<img src=\"https://apod.nasa.gov/apod/image/2504/PIA21983JupiterLundh1024.jpg\"/>"
            ],
            "text/plain": [
              "<IPython.core.display.Image object>"
            ]
          },
          "metadata": {}
        }
      ]
    },
    {
      "cell_type": "code",
      "source": [
        "neo_url = \"https://api.nasa.gov/neo/rest/v1/feed?start_date=2025-04-19&api_key=WJuOwesj8W9ADRabegnQkfWsQgIJTP6O95lT6KRA\"\n",
        "response = requests.get(neo_url)\n",
        "data = response.json()"
      ],
      "metadata": {
        "id": "vTmneMef-xgn"
      },
      "execution_count": null,
      "outputs": []
    },
    {
      "cell_type": "code",
      "source": [
        "# Extracting and cleaning data\n",
        "asteroids = []\n",
        "\n",
        "for date in data['near_earth_objects']:\n",
        "    for asteroid in data['near_earth_objects'][date]:\n",
        "        asteroid_info = {\n",
        "            'Asteroid ID': asteroid['id'],\n",
        "            'Asteroid Name': asteroid['name'],\n",
        "            'Minimal Estimated Diameter (km)': asteroid['estimated_diameter']['kilometers']['estimated_diameter_min'],\n",
        "            'Absolute Magnitude': asteroid['absolute_magnitude_h'],\n",
        "            'Relative Velocity (km/s)': float(asteroid['close_approach_data'][0]['relative_velocity']['kilometers_per_second']),\n",
        "        }\n",
        "        asteroids.append(asteroid_info)\n",
        "\n",
        "# Creating the DataFrame\n",
        "df = pd.DataFrame(asteroids)"
      ],
      "metadata": {
        "id": "1YDNl1R-FeP4"
      },
      "execution_count": null,
      "outputs": []
    },
    {
      "cell_type": "code",
      "source": [
        "# Displating the first few rows of the DataFrame\n",
        "df.head()"
      ],
      "metadata": {
        "colab": {
          "base_uri": "https://localhost:8080/",
          "height": 206
        },
        "id": "WccXLNdyHZA4",
        "outputId": "065a25fb-2de1-4e64-e5a2-6ea87df0ca30"
      },
      "execution_count": null,
      "outputs": [
        {
          "output_type": "execute_result",
          "data": {
            "text/plain": [
              "  Asteroid ID      Asteroid Name  Minimal Estimated Diameter (km)  \\\n",
              "0     2436030  436030 (2009 JO2)                         0.343997   \n",
              "1     3137735        (2002 TX59)                         0.044112   \n",
              "2     3153509          (2003 HM)                         0.103886   \n",
              "3     3654379         (2013 XV8)                         0.111315   \n",
              "4     3830886         (2018 SN2)                         0.035039   \n",
              "\n",
              "   Absolute Magnitude  Relative Velocity (km/s)  \n",
              "0               19.44                 16.301302  \n",
              "1               23.90                  7.504831  \n",
              "2               22.04                 14.141273  \n",
              "3               21.89                  3.837368  \n",
              "4               24.40                 12.827816  "
            ],
            "text/html": [
              "\n",
              "  <div id=\"df-254b3141-e822-4c0a-9906-1d053060cea5\" class=\"colab-df-container\">\n",
              "    <div>\n",
              "<style scoped>\n",
              "    .dataframe tbody tr th:only-of-type {\n",
              "        vertical-align: middle;\n",
              "    }\n",
              "\n",
              "    .dataframe tbody tr th {\n",
              "        vertical-align: top;\n",
              "    }\n",
              "\n",
              "    .dataframe thead th {\n",
              "        text-align: right;\n",
              "    }\n",
              "</style>\n",
              "<table border=\"1\" class=\"dataframe\">\n",
              "  <thead>\n",
              "    <tr style=\"text-align: right;\">\n",
              "      <th></th>\n",
              "      <th>Asteroid ID</th>\n",
              "      <th>Asteroid Name</th>\n",
              "      <th>Minimal Estimated Diameter (km)</th>\n",
              "      <th>Absolute Magnitude</th>\n",
              "      <th>Relative Velocity (km/s)</th>\n",
              "    </tr>\n",
              "  </thead>\n",
              "  <tbody>\n",
              "    <tr>\n",
              "      <th>0</th>\n",
              "      <td>2436030</td>\n",
              "      <td>436030 (2009 JO2)</td>\n",
              "      <td>0.343997</td>\n",
              "      <td>19.44</td>\n",
              "      <td>16.301302</td>\n",
              "    </tr>\n",
              "    <tr>\n",
              "      <th>1</th>\n",
              "      <td>3137735</td>\n",
              "      <td>(2002 TX59)</td>\n",
              "      <td>0.044112</td>\n",
              "      <td>23.90</td>\n",
              "      <td>7.504831</td>\n",
              "    </tr>\n",
              "    <tr>\n",
              "      <th>2</th>\n",
              "      <td>3153509</td>\n",
              "      <td>(2003 HM)</td>\n",
              "      <td>0.103886</td>\n",
              "      <td>22.04</td>\n",
              "      <td>14.141273</td>\n",
              "    </tr>\n",
              "    <tr>\n",
              "      <th>3</th>\n",
              "      <td>3654379</td>\n",
              "      <td>(2013 XV8)</td>\n",
              "      <td>0.111315</td>\n",
              "      <td>21.89</td>\n",
              "      <td>3.837368</td>\n",
              "    </tr>\n",
              "    <tr>\n",
              "      <th>4</th>\n",
              "      <td>3830886</td>\n",
              "      <td>(2018 SN2)</td>\n",
              "      <td>0.035039</td>\n",
              "      <td>24.40</td>\n",
              "      <td>12.827816</td>\n",
              "    </tr>\n",
              "  </tbody>\n",
              "</table>\n",
              "</div>\n",
              "    <div class=\"colab-df-buttons\">\n",
              "\n",
              "  <div class=\"colab-df-container\">\n",
              "    <button class=\"colab-df-convert\" onclick=\"convertToInteractive('df-254b3141-e822-4c0a-9906-1d053060cea5')\"\n",
              "            title=\"Convert this dataframe to an interactive table.\"\n",
              "            style=\"display:none;\">\n",
              "\n",
              "  <svg xmlns=\"http://www.w3.org/2000/svg\" height=\"24px\" viewBox=\"0 -960 960 960\">\n",
              "    <path d=\"M120-120v-720h720v720H120Zm60-500h600v-160H180v160Zm220 220h160v-160H400v160Zm0 220h160v-160H400v160ZM180-400h160v-160H180v160Zm440 0h160v-160H620v160ZM180-180h160v-160H180v160Zm440 0h160v-160H620v160Z\"/>\n",
              "  </svg>\n",
              "    </button>\n",
              "\n",
              "  <style>\n",
              "    .colab-df-container {\n",
              "      display:flex;\n",
              "      gap: 12px;\n",
              "    }\n",
              "\n",
              "    .colab-df-convert {\n",
              "      background-color: #E8F0FE;\n",
              "      border: none;\n",
              "      border-radius: 50%;\n",
              "      cursor: pointer;\n",
              "      display: none;\n",
              "      fill: #1967D2;\n",
              "      height: 32px;\n",
              "      padding: 0 0 0 0;\n",
              "      width: 32px;\n",
              "    }\n",
              "\n",
              "    .colab-df-convert:hover {\n",
              "      background-color: #E2EBFA;\n",
              "      box-shadow: 0px 1px 2px rgba(60, 64, 67, 0.3), 0px 1px 3px 1px rgba(60, 64, 67, 0.15);\n",
              "      fill: #174EA6;\n",
              "    }\n",
              "\n",
              "    .colab-df-buttons div {\n",
              "      margin-bottom: 4px;\n",
              "    }\n",
              "\n",
              "    [theme=dark] .colab-df-convert {\n",
              "      background-color: #3B4455;\n",
              "      fill: #D2E3FC;\n",
              "    }\n",
              "\n",
              "    [theme=dark] .colab-df-convert:hover {\n",
              "      background-color: #434B5C;\n",
              "      box-shadow: 0px 1px 3px 1px rgba(0, 0, 0, 0.15);\n",
              "      filter: drop-shadow(0px 1px 2px rgba(0, 0, 0, 0.3));\n",
              "      fill: #FFFFFF;\n",
              "    }\n",
              "  </style>\n",
              "\n",
              "    <script>\n",
              "      const buttonEl =\n",
              "        document.querySelector('#df-254b3141-e822-4c0a-9906-1d053060cea5 button.colab-df-convert');\n",
              "      buttonEl.style.display =\n",
              "        google.colab.kernel.accessAllowed ? 'block' : 'none';\n",
              "\n",
              "      async function convertToInteractive(key) {\n",
              "        const element = document.querySelector('#df-254b3141-e822-4c0a-9906-1d053060cea5');\n",
              "        const dataTable =\n",
              "          await google.colab.kernel.invokeFunction('convertToInteractive',\n",
              "                                                    [key], {});\n",
              "        if (!dataTable) return;\n",
              "\n",
              "        const docLinkHtml = 'Like what you see? Visit the ' +\n",
              "          '<a target=\"_blank\" href=https://colab.research.google.com/notebooks/data_table.ipynb>data table notebook</a>'\n",
              "          + ' to learn more about interactive tables.';\n",
              "        element.innerHTML = '';\n",
              "        dataTable['output_type'] = 'display_data';\n",
              "        await google.colab.output.renderOutput(dataTable, element);\n",
              "        const docLink = document.createElement('div');\n",
              "        docLink.innerHTML = docLinkHtml;\n",
              "        element.appendChild(docLink);\n",
              "      }\n",
              "    </script>\n",
              "  </div>\n",
              "\n",
              "\n",
              "<div id=\"df-fefea4cb-4ca1-424d-a1a2-f270e8571fce\">\n",
              "  <button class=\"colab-df-quickchart\" onclick=\"quickchart('df-fefea4cb-4ca1-424d-a1a2-f270e8571fce')\"\n",
              "            title=\"Suggest charts\"\n",
              "            style=\"display:none;\">\n",
              "\n",
              "<svg xmlns=\"http://www.w3.org/2000/svg\" height=\"24px\"viewBox=\"0 0 24 24\"\n",
              "     width=\"24px\">\n",
              "    <g>\n",
              "        <path d=\"M19 3H5c-1.1 0-2 .9-2 2v14c0 1.1.9 2 2 2h14c1.1 0 2-.9 2-2V5c0-1.1-.9-2-2-2zM9 17H7v-7h2v7zm4 0h-2V7h2v10zm4 0h-2v-4h2v4z\"/>\n",
              "    </g>\n",
              "</svg>\n",
              "  </button>\n",
              "\n",
              "<style>\n",
              "  .colab-df-quickchart {\n",
              "      --bg-color: #E8F0FE;\n",
              "      --fill-color: #1967D2;\n",
              "      --hover-bg-color: #E2EBFA;\n",
              "      --hover-fill-color: #174EA6;\n",
              "      --disabled-fill-color: #AAA;\n",
              "      --disabled-bg-color: #DDD;\n",
              "  }\n",
              "\n",
              "  [theme=dark] .colab-df-quickchart {\n",
              "      --bg-color: #3B4455;\n",
              "      --fill-color: #D2E3FC;\n",
              "      --hover-bg-color: #434B5C;\n",
              "      --hover-fill-color: #FFFFFF;\n",
              "      --disabled-bg-color: #3B4455;\n",
              "      --disabled-fill-color: #666;\n",
              "  }\n",
              "\n",
              "  .colab-df-quickchart {\n",
              "    background-color: var(--bg-color);\n",
              "    border: none;\n",
              "    border-radius: 50%;\n",
              "    cursor: pointer;\n",
              "    display: none;\n",
              "    fill: var(--fill-color);\n",
              "    height: 32px;\n",
              "    padding: 0;\n",
              "    width: 32px;\n",
              "  }\n",
              "\n",
              "  .colab-df-quickchart:hover {\n",
              "    background-color: var(--hover-bg-color);\n",
              "    box-shadow: 0 1px 2px rgba(60, 64, 67, 0.3), 0 1px 3px 1px rgba(60, 64, 67, 0.15);\n",
              "    fill: var(--button-hover-fill-color);\n",
              "  }\n",
              "\n",
              "  .colab-df-quickchart-complete:disabled,\n",
              "  .colab-df-quickchart-complete:disabled:hover {\n",
              "    background-color: var(--disabled-bg-color);\n",
              "    fill: var(--disabled-fill-color);\n",
              "    box-shadow: none;\n",
              "  }\n",
              "\n",
              "  .colab-df-spinner {\n",
              "    border: 2px solid var(--fill-color);\n",
              "    border-color: transparent;\n",
              "    border-bottom-color: var(--fill-color);\n",
              "    animation:\n",
              "      spin 1s steps(1) infinite;\n",
              "  }\n",
              "\n",
              "  @keyframes spin {\n",
              "    0% {\n",
              "      border-color: transparent;\n",
              "      border-bottom-color: var(--fill-color);\n",
              "      border-left-color: var(--fill-color);\n",
              "    }\n",
              "    20% {\n",
              "      border-color: transparent;\n",
              "      border-left-color: var(--fill-color);\n",
              "      border-top-color: var(--fill-color);\n",
              "    }\n",
              "    30% {\n",
              "      border-color: transparent;\n",
              "      border-left-color: var(--fill-color);\n",
              "      border-top-color: var(--fill-color);\n",
              "      border-right-color: var(--fill-color);\n",
              "    }\n",
              "    40% {\n",
              "      border-color: transparent;\n",
              "      border-right-color: var(--fill-color);\n",
              "      border-top-color: var(--fill-color);\n",
              "    }\n",
              "    60% {\n",
              "      border-color: transparent;\n",
              "      border-right-color: var(--fill-color);\n",
              "    }\n",
              "    80% {\n",
              "      border-color: transparent;\n",
              "      border-right-color: var(--fill-color);\n",
              "      border-bottom-color: var(--fill-color);\n",
              "    }\n",
              "    90% {\n",
              "      border-color: transparent;\n",
              "      border-bottom-color: var(--fill-color);\n",
              "    }\n",
              "  }\n",
              "</style>\n",
              "\n",
              "  <script>\n",
              "    async function quickchart(key) {\n",
              "      const quickchartButtonEl =\n",
              "        document.querySelector('#' + key + ' button');\n",
              "      quickchartButtonEl.disabled = true;  // To prevent multiple clicks.\n",
              "      quickchartButtonEl.classList.add('colab-df-spinner');\n",
              "      try {\n",
              "        const charts = await google.colab.kernel.invokeFunction(\n",
              "            'suggestCharts', [key], {});\n",
              "      } catch (error) {\n",
              "        console.error('Error during call to suggestCharts:', error);\n",
              "      }\n",
              "      quickchartButtonEl.classList.remove('colab-df-spinner');\n",
              "      quickchartButtonEl.classList.add('colab-df-quickchart-complete');\n",
              "    }\n",
              "    (() => {\n",
              "      let quickchartButtonEl =\n",
              "        document.querySelector('#df-fefea4cb-4ca1-424d-a1a2-f270e8571fce button');\n",
              "      quickchartButtonEl.style.display =\n",
              "        google.colab.kernel.accessAllowed ? 'block' : 'none';\n",
              "    })();\n",
              "  </script>\n",
              "</div>\n",
              "\n",
              "    </div>\n",
              "  </div>\n"
            ],
            "application/vnd.google.colaboratory.intrinsic+json": {
              "type": "dataframe",
              "variable_name": "df",
              "summary": "{\n  \"name\": \"df\",\n  \"rows\": 110,\n  \"fields\": [\n    {\n      \"column\": \"Asteroid ID\",\n      \"properties\": {\n        \"dtype\": \"string\",\n        \"num_unique_values\": 110,\n        \"samples\": [\n          \"3879166\",\n          \"54524978\",\n          \"3830886\"\n        ],\n        \"semantic_type\": \"\",\n        \"description\": \"\"\n      }\n    },\n    {\n      \"column\": \"Asteroid Name\",\n      \"properties\": {\n        \"dtype\": \"string\",\n        \"num_unique_values\": 110,\n        \"samples\": [\n          \"(2019 TB7)\",\n          \"(2025 FV11)\",\n          \"(2018 SN2)\"\n        ],\n        \"semantic_type\": \"\",\n        \"description\": \"\"\n      }\n    },\n    {\n      \"column\": \"Minimal Estimated Diameter (km)\",\n      \"properties\": {\n        \"dtype\": \"number\",\n        \"std\": 0.12203119066144678,\n        \"min\": 0.0024019003,\n        \"max\": 0.7320739893,\n        \"num_unique_values\": 102,\n        \"samples\": [\n          0.1550797087,\n          0.1780553292,\n          0.283501249\n        ],\n        \"semantic_type\": \"\",\n        \"description\": \"\"\n      }\n    },\n    {\n      \"column\": \"Absolute Magnitude\",\n      \"properties\": {\n        \"dtype\": \"number\",\n        \"std\": 2.6602948471729433,\n        \"min\": 17.8,\n        \"max\": 30.22,\n        \"num_unique_values\": 102,\n        \"samples\": [\n          21.17,\n          20.87,\n          19.86\n        ],\n        \"semantic_type\": \"\",\n        \"description\": \"\"\n      }\n    },\n    {\n      \"column\": \"Relative Velocity (km/s)\",\n      \"properties\": {\n        \"dtype\": \"number\",\n        \"std\": 6.2937214892414275,\n        \"min\": 1.3264705595,\n        \"max\": 36.8110000407,\n        \"num_unique_values\": 110,\n        \"samples\": [\n          8.3650716841,\n          7.3009903594,\n          12.8278159542\n        ],\n        \"semantic_type\": \"\",\n        \"description\": \"\"\n      }\n    }\n  ]\n}"
            }
          },
          "metadata": {},
          "execution_count": 30
        }
      ]
    },
    {
      "cell_type": "code",
      "source": [
        "# Exporting the DataFrame to a csv file\n",
        "df.to_csv('asteroid_data.csv', index=False)\n",
        "print(\"CSV file saved as 'asteroid_data.csv'\")"
      ],
      "metadata": {
        "colab": {
          "base_uri": "https://localhost:8080/"
        },
        "id": "QY2-RHgmIkgx",
        "outputId": "87d0d5b2-2fdf-4271-fa9e-953ead6064c7"
      },
      "execution_count": null,
      "outputs": [
        {
          "output_type": "stream",
          "name": "stdout",
          "text": [
            "CSV file saved as 'asteroid_data.csv'\n"
          ]
        }
      ]
    },
    {
      "cell_type": "code",
      "source": [
        "from google.colab import drive\n",
        "drive.mount('/content/drive')\n",
        "\n",
        "# Moving the file to Google Drive\n",
        "!cp asteroid_data.csv /content/drive/MyDrive/"
      ],
      "metadata": {
        "colab": {
          "base_uri": "https://localhost:8080/"
        },
        "collapsed": true,
        "id": "fIZY1_rXNkWH",
        "outputId": "ec2f117d-c793-45cb-86d0-c32d85967dfd"
      },
      "execution_count": null,
      "outputs": [
        {
          "output_type": "stream",
          "name": "stdout",
          "text": [
            "Drive already mounted at /content/drive; to attempt to forcibly remount, call drive.mount(\"/content/drive\", force_remount=True).\n"
          ]
        }
      ]
    }
  ]
}