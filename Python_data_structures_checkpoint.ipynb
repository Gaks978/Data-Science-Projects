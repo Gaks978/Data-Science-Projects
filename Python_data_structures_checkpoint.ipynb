{
  "nbformat": 4,
  "nbformat_minor": 0,
  "metadata": {
    "colab": {
      "provenance": [],
      "authorship_tag": "ABX9TyND3Nkia8L3SKZ5OG4fSG50",
      "include_colab_link": true
    },
    "kernelspec": {
      "name": "python3",
      "display_name": "Python 3"
    },
    "language_info": {
      "name": "python"
    }
  },
  "cells": [
    {
      "cell_type": "markdown",
      "metadata": {
        "id": "view-in-github",
        "colab_type": "text"
      },
      "source": [
        "<a href=\"https://colab.research.google.com/github/Gaks978/Data-Science-Projects/blob/main/Python_data_structures_checkpoint.ipynb\" target=\"_parent\"><img src=\"https://colab.research.google.com/assets/colab-badge.svg\" alt=\"Open In Colab\"/></a>"
      ]
    },
    {
      "cell_type": "markdown",
      "source": [
        "What You're Aiming For\n",
        "\n",
        "\n",
        "Develop and refine your Python programming skills through practical exercises focused on manipulating data structures and implementing fundamental algorithms.\n",
        "\n",
        "\n",
        "Instructions\n",
        "\n",
        "You will develop your understanding and application of Python programming through this series of exercises. Each question is designed to challenge and enhance your skills in working with Python’s built-in data structures and functions.\n",
        "\n",
        "\n",
        "\n",
        "Question 1  :\n",
        "\n",
        "Write a Python program that multiplies all the items in a list.\n",
        "\n",
        "Sample list= [2, 3, 6]\n",
        "\n",
        "Result = 36\n",
        "\n",
        "Question 2\n",
        "\n",
        "Write a Python program to get a list, sorted in increasing order by the last element in each tuple, from a given list of non-empty tuples.\n",
        "\n",
        "Sample List : [(2, 5), (1, 2), (4, 4), (2, 3), (2, 1)]\n",
        "\n",
        "Expected result : [(2, 1), (1, 2), (2, 3), (4, 4), (2, 5)]\n",
        "\n",
        "Hint: You can use the sort function.\n",
        "\n",
        "Question 3\n",
        "\n",
        "Write a Python program that combines two dictionaries by adding values for common keys.\n",
        "\n",
        "d1 = {'a': 100, 'b': 200, 'c':300}\n",
        "\n",
        "d2 = {'a': 300, 'b': 200, 'd':400}\n",
        "\n",
        "Expected result: {'a': 400, 'b': 400, 'd': 400, 'c': 300}\n",
        "\n",
        "Question 4\n",
        "\n",
        "With a given integral number n, write a program to generate a dictionary that contains (i, i*i) so that is an integral number between 1 and n (both included). Then the program should print the dictionary. Suppose the following input is supplied to the program: 8. Then, the output should be: {1: 1, 2: 4, 3: 9, 4: 16, 5: 25, 6: 36, 7: 49, 8: 64}\n",
        "\n",
        "Question 5\n",
        "\n",
        "Write a program to sort a tuple by its float element.\n",
        "\n",
        "For example: list= [('item1', '12.20'), ('item2', '15.10'), ('item3', '24.5')]\n",
        "\n",
        "Expected result: [('item3', '24.5'), ('item2', '15.10'), ('item1', '12.20')]\n",
        "\n",
        "Question 6\n",
        "\n",
        "Write a Python program to create a set.\n",
        "\n",
        "Examples : {0, 1, 2, 3, 4}\n",
        "\n",
        "Write a Python program to iteration over sets.\n",
        "\n",
        "Write a Python program to add members in a set and to remove items from a given set."
      ],
      "metadata": {
        "id": "2tKjOQdcLS0n"
      }
    },
    {
      "cell_type": "code",
      "execution_count": null,
      "metadata": {
        "id": "mvwHFA6ATGtk",
        "colab": {
          "base_uri": "https://localhost:8080/"
        },
        "outputId": "cafa9ff7-0c41-4caf-eb5d-6e2668d7c0c7"
      },
      "outputs": [
        {
          "output_type": "stream",
          "name": "stdout",
          "text": [
            "Result: 36\n"
          ]
        }
      ],
      "source": [
        "sample_list = [2, 3, 6]\n",
        "result = sample_list[0] * sample_list[1] * sample_list[2]\n",
        "print(\"Result:\", result)"
      ]
    },
    {
      "cell_type": "code",
      "source": [
        "sample_list = [(2,5), (1,2), (4,4), (2,3), (2,1)]\n",
        "sample_list.sort(key=lambda x: x[1])\n",
        "print(sample_list)"
      ],
      "metadata": {
        "colab": {
          "base_uri": "https://localhost:8080/"
        },
        "id": "jZGkYhxiM0wS",
        "outputId": "4481395c-f0a5-4b2c-d468-6402ec34a951"
      },
      "execution_count": null,
      "outputs": [
        {
          "output_type": "stream",
          "name": "stdout",
          "text": [
            "[(2, 1), (1, 2), (2, 3), (4, 4), (2, 5)]\n"
          ]
        }
      ]
    },
    {
      "cell_type": "code",
      "source": [
        "d1 = {'a': 100, 'b': 200, 'c': 300}\n",
        "d2 = {'a': 300, 'b': 200, 'd': 300}\n",
        "added_values_for_common_keys = {key: d1.get(key, 0) + d2.get(key, 0) for key in set(d1) | set(d2)}\n",
        "print(\"Added_values_for_common_keys:\", added_values_for_common_keys)\n"
      ],
      "metadata": {
        "colab": {
          "base_uri": "https://localhost:8080/"
        },
        "id": "9AEx1-YPqyWR",
        "outputId": "3e5f6669-3950-4717-8522-bf9d7f1d9b2e"
      },
      "execution_count": null,
      "outputs": [
        {
          "output_type": "stream",
          "name": "stdout",
          "text": [
            "Added_values_for_common_keys: {'c': 300, 'b': 400, 'd': 300, 'a': 400}\n"
          ]
        }
      ]
    },
    {
      "cell_type": "code",
      "source": [
        "n = 8\n",
        "dictionary_of_squares_of_i = {i: i * i for i in range(1, n+1)}\n",
        "print(dictionary_of_squares_of_i)"
      ],
      "metadata": {
        "colab": {
          "base_uri": "https://localhost:8080/"
        },
        "id": "Xb5i1LBu6x0v",
        "outputId": "9bcbc9a8-57c4-41ef-bb56-b986e303b0c9"
      },
      "execution_count": null,
      "outputs": [
        {
          "output_type": "stream",
          "name": "stdout",
          "text": [
            "{1: 1, 2: 4, 3: 9, 4: 16, 5: 25, 6: 36, 7: 49, 8: 64}\n"
          ]
        }
      ]
    },
    {
      "cell_type": "code",
      "source": [
        "list = [('item1', '12.20'), ('item2', '15.10'), ('item3', '24.5')]\n",
        "list.sort(key=lambda x: float(x[1]), reverse=True)\n",
        "print(list)"
      ],
      "metadata": {
        "id": "FVq6l7z0-xI0",
        "colab": {
          "base_uri": "https://localhost:8080/"
        },
        "outputId": "a8cb07b7-b1ab-4bfa-dc12-915d8c2bec14"
      },
      "execution_count": null,
      "outputs": [
        {
          "output_type": "stream",
          "name": "stdout",
          "text": [
            "[('item3', '24.5'), ('item2', '15.10'), ('item1', '12.20')]\n"
          ]
        }
      ]
    },
    {
      "cell_type": "code",
      "source": [
        "# Creating a set\n",
        "set = {0, 1, 2, 3, 4}\n",
        "# Iteration over set\n",
        "for element in set:\n",
        "  print(element)\n",
        "# Adding an element to a set\n",
        "set.add(9)\n",
        "print(\"Set after adding elements:\", set)\n",
        "# Removing an element from a set\n",
        "set.remove(2)\n",
        "print(\"Set after removing an element:\", set)"
      ],
      "metadata": {
        "colab": {
          "base_uri": "https://localhost:8080/"
        },
        "id": "FG9hfmVoOYnG",
        "outputId": "3294c68c-fbf7-450b-9b0f-49831d3ec346"
      },
      "execution_count": null,
      "outputs": [
        {
          "output_type": "stream",
          "name": "stdout",
          "text": [
            "0\n",
            "1\n",
            "2\n",
            "3\n",
            "4\n",
            "Set after adding elements: {0, 1, 2, 3, 4, 9}\n",
            "Set after removing an element: {0, 1, 3, 4, 9}\n"
          ]
        }
      ]
    }
  ]
}