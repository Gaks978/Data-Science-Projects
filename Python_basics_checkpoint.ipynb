{
  "nbformat": 4,
  "nbformat_minor": 0,
  "metadata": {
    "colab": {
      "provenance": [],
      "authorship_tag": "ABX9TyMzsy6Qu4+YJJXpWtPftKlu",
      "include_colab_link": true
    },
    "kernelspec": {
      "name": "python3",
      "display_name": "Python 3"
    },
    "language_info": {
      "name": "python"
    }
  },
  "cells": [
    {
      "cell_type": "markdown",
      "metadata": {
        "id": "view-in-github",
        "colab_type": "text"
      },
      "source": [
        "<a href=\"https://colab.research.google.com/github/Gaks978/Data-Science-Projects/blob/main/Python_basics_checkpoint.ipynb\" target=\"_parent\"><img src=\"https://colab.research.google.com/assets/colab-badge.svg\" alt=\"Open In Colab\"/></a>"
      ]
    },
    {
      "cell_type": "markdown",
      "source": [
        "What You're Aiming For\n",
        "\n",
        "The objective of the game is to guess a randomly generated number between 1 and 100.\n",
        "\n",
        "Description:\n",
        "\n",
        "Guess the Number is a single-player game where the player is prompted to guess a number between 1 and 100. The game provides feedback to the player if their guess is too high or too low until they correctly guess the number.\n",
        "\n",
        "Example :\n",
        "\n",
        "Welcome to the Guess the Number game!\n",
        "\n",
        "I'm thinking of a number between 1 and 100. Can you guess what it is?\n",
        "\n",
        "Enter your guess: 50\n",
        "\n",
        "Your guess is too high. Guess again.\n",
        "\n",
        "Enter your guess: 25\n",
        "\n",
        "Your guess is too low. Guess again.\n",
        "\n",
        "Enter your guess: 37\n",
        "\n",
        "Your guess is too high. Guess again.\n",
        "\n",
        "Enter your guess: 31\n",
        "\n",
        "Congratulations! You guessed the number correctly!\n",
        "\n",
        "\n",
        "\n",
        "\n",
        "Instructions\n",
        "\n",
        "\n",
        "Use the 'input' function to prompt the player to enter their guess as a string.\n",
        "\n",
        "Use the 'int' function to convert the player's guess to an integer.\n",
        "\n",
        "Use the 'import' statement to import the 'random' module.\n",
        "\n",
        "Use the 'random.randint()' function to generate a random integer between 1 and 100.\n",
        "\n",
        "Use an 'if/else' statement to check if the player's guess is too high, too low, or correct.\n",
        "\n",
        "Use the 'print' function to provide feedback to the player based on their guess.\n",
        "\n",
        "Use a 'while' loop to continue prompting the player for guesses until they correctly guess the number.\n",
        "\n",
        "Note:\n",
        "\n",
        "The game can be customized to allow the player to choose the range of numbers or the number of guesses they are allowed before they lose the game."
      ],
      "metadata": {
        "id": "daGLNGjVKRWl"
      }
    },
    {
      "cell_type": "code",
      "execution_count": null,
      "metadata": {
        "id": "_bRuZ2wg1kDg",
        "colab": {
          "base_uri": "https://localhost:8080/"
        },
        "outputId": "24abb9fd-8fe4-4076-979f-208c7dd4d700"
      },
      "outputs": [
        {
          "output_type": "stream",
          "name": "stdout",
          "text": [
            "Guess a random number between 1 and 100\n",
            "Enter your guess: 46\n",
            "Your guess is too high\n",
            "Enter your guess: 40\n",
            "Your guess is too high\n",
            "Enter your guess: 30\n",
            "Your guess is too low\n",
            "Enter your guess: 35\n",
            "Correct\n"
          ]
        }
      ],
      "source": [
        "import random\n",
        "print('Guess a random number between 1 and 100')\n",
        "right_guess = random.randint(1,100)\n",
        "guessed_number = False\n",
        "while not guessed_number:\n",
        "  guess = int(input('Enter your guess: '))\n",
        "  if guess > right_guess:\n",
        "    print('Your guess is too high')\n",
        "  elif guess < right_guess:\n",
        "    print('Your guess is too low')\n",
        "  else:\n",
        "    print('Correct')\n",
        "    guessed_number = True"
      ]
    }
  ]
}