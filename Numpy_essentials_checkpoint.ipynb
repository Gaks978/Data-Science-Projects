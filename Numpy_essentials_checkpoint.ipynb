{
  "nbformat": 4,
  "nbformat_minor": 0,
  "metadata": {
    "colab": {
      "provenance": [],
      "authorship_tag": "ABX9TyNX11XuefBPkBo71YmEiJmZ",
      "include_colab_link": true
    },
    "kernelspec": {
      "name": "python3",
      "display_name": "Python 3"
    },
    "language_info": {
      "name": "python"
    }
  },
  "cells": [
    {
      "cell_type": "markdown",
      "metadata": {
        "id": "view-in-github",
        "colab_type": "text"
      },
      "source": [
        "<a href=\"https://colab.research.google.com/github/Gaks978/Data-Science-Projects/blob/main/Numpy_essentials_checkpoint.ipynb\" target=\"_parent\"><img src=\"https://colab.research.google.com/assets/colab-badge.svg\" alt=\"Open In Colab\"/></a>"
      ]
    },
    {
      "cell_type": "markdown",
      "source": [
        "What You're Aiming For\n",
        "\n",
        "The objective  is to utilize the NumPy library to perform detailed analysis on a dataset of student grades. This includes calculating statistical measures, identifying trends, and extracting subsets of data to understand the performance and achievements of students within a specific grading scale.\n",
        "\n",
        "\n",
        "Instructions\n",
        "\n",
        "Create a numpy array called \"grades\" that contains the following grades: [85, 90, 88, 92, 95, 80, 75, 98, 89, 83]\n",
        "\n",
        "Import the numpy library and create the \"grades\" array as specified above.\n",
        "\n",
        "Use numpy functions to calculate the mean, median, and standard deviation of the grades.\n",
        "\n",
        "Use numpy function to find the maximum and minimum of the grades.\n",
        "\n",
        "Use numpy function to sort the grades in ascending order.\n",
        "\n",
        "Use numpy function to find the index of the highest grade in the array.\n",
        "\n",
        "Use numpy function to count the number of students who scored above 90.\n",
        "\n",
        "Use numpy function to calculate the percentage of students who scored above 90.\n",
        "\n",
        "Use numpy function to calculate the percentage of students who scored below 75.\n",
        "\n",
        "Use numpy function to extract all the grades above 90 and put them in a new array called \"high_performers\".\n",
        "\n",
        "Create a new array called \"passing_grades\" that contains all the grades above 75.\n",
        "\n",
        "Print the result of all the above steps.\n",
        "\n",
        "Note:\n",
        "\n",
        "to calculate percentage use numpy.mean(grades > 90) * 100\n",
        "\n",
        "to extract the grades above 90 use grades[grades > 90]\n",
        "\n",
        "to extract the grades above 75 use grades[grades > 75]\n",
        "\n",
        "You can use other numpy functions as well to analyze the data as you want. The above steps are just examples of what can be done."
      ],
      "metadata": {
        "id": "AQWLHERUIV8a"
      }
    },
    {
      "cell_type": "code",
      "execution_count": null,
      "metadata": {
        "colab": {
          "base_uri": "https://localhost:8080/"
        },
        "id": "JSizkniIICL8",
        "outputId": "db865c13-cf2f-4612-e0ed-02a4ec297bfe"
      },
      "outputs": [
        {
          "output_type": "stream",
          "name": "stdout",
          "text": [
            "[85 90 88 92 95 80 75 98 89 83]\n"
          ]
        },
        {
          "output_type": "execute_result",
          "data": {
            "text/plain": [
              "np.float64(87.5)"
            ]
          },
          "metadata": {},
          "execution_count": 2
        }
      ],
      "source": [
        "import numpy as np\n",
        "grades = np.array([85, 90, 88, 92, 95, 80, 75, 98, 89, 83])\n",
        "print(grades)\n",
        "\n",
        "# calculating the mean,median and the standard deviation\n",
        "np.mean(grades)"
      ]
    },
    {
      "cell_type": "code",
      "source": [
        "np.median(grades)"
      ],
      "metadata": {
        "colab": {
          "base_uri": "https://localhost:8080/"
        },
        "id": "RIoMMD9PL7L0",
        "outputId": "4a2d5311-3cd8-48b2-a315-fece5932b2d3"
      },
      "execution_count": null,
      "outputs": [
        {
          "output_type": "execute_result",
          "data": {
            "text/plain": [
              "np.float64(88.5)"
            ]
          },
          "metadata": {},
          "execution_count": 3
        }
      ]
    },
    {
      "cell_type": "code",
      "source": [
        "np.std(grades)"
      ],
      "metadata": {
        "colab": {
          "base_uri": "https://localhost:8080/"
        },
        "id": "qIyajCTYMAcu",
        "outputId": "808716f4-d215-49a7-bc5b-955d51f00580"
      },
      "execution_count": null,
      "outputs": [
        {
          "output_type": "execute_result",
          "data": {
            "text/plain": [
              "np.float64(6.591661399070799)"
            ]
          },
          "metadata": {},
          "execution_count": 4
        }
      ]
    },
    {
      "cell_type": "code",
      "source": [
        "np.max(grades)"
      ],
      "metadata": {
        "colab": {
          "base_uri": "https://localhost:8080/"
        },
        "id": "dRoIhHytMMRd",
        "outputId": "8375fd29-79bf-45db-a8c1-e71838a56372"
      },
      "execution_count": null,
      "outputs": [
        {
          "output_type": "execute_result",
          "data": {
            "text/plain": [
              "np.int64(98)"
            ]
          },
          "metadata": {},
          "execution_count": 5
        }
      ]
    },
    {
      "cell_type": "code",
      "source": [
        "np.min(grades)"
      ],
      "metadata": {
        "colab": {
          "base_uri": "https://localhost:8080/"
        },
        "id": "TSqaMk4CMn2E",
        "outputId": "0990b986-3746-4360-a889-00cd8a9cd057"
      },
      "execution_count": null,
      "outputs": [
        {
          "output_type": "execute_result",
          "data": {
            "text/plain": [
              "np.int64(75)"
            ]
          },
          "metadata": {},
          "execution_count": 6
        }
      ]
    },
    {
      "cell_type": "code",
      "source": [
        "np.sort(grades)"
      ],
      "metadata": {
        "colab": {
          "base_uri": "https://localhost:8080/"
        },
        "id": "DC0ultUVMvIe",
        "outputId": "37753e9d-bbfb-4557-f2a5-5956496f673b"
      },
      "execution_count": null,
      "outputs": [
        {
          "output_type": "execute_result",
          "data": {
            "text/plain": [
              "array([75, 80, 83, 85, 88, 89, 90, 92, 95, 98])"
            ]
          },
          "metadata": {},
          "execution_count": 7
        }
      ]
    },
    {
      "cell_type": "code",
      "source": [
        "np.argmax(grades)"
      ],
      "metadata": {
        "colab": {
          "base_uri": "https://localhost:8080/"
        },
        "id": "CEd4wPQkNQ6F",
        "outputId": "8ee1ae7b-b85d-459b-8961-97d327429555"
      },
      "execution_count": null,
      "outputs": [
        {
          "output_type": "execute_result",
          "data": {
            "text/plain": [
              "np.int64(7)"
            ]
          },
          "metadata": {},
          "execution_count": 8
        }
      ]
    },
    {
      "cell_type": "code",
      "source": [
        "students_above_90 = np.sum(grades > 90)\n",
        "print(students_above_90)"
      ],
      "metadata": {
        "colab": {
          "base_uri": "https://localhost:8080/"
        },
        "id": "B7z6bP58Sta9",
        "outputId": "f14a99f1-3aa6-4608-a50b-19cccab4a4c9"
      },
      "execution_count": null,
      "outputs": [
        {
          "output_type": "stream",
          "name": "stdout",
          "text": [
            "3\n"
          ]
        }
      ]
    },
    {
      "cell_type": "code",
      "source": [
        "percentage_of_students_above_90 = np.mean(grades > 90) * 100\n",
        "print(percentage_of_students_above_90)"
      ],
      "metadata": {
        "colab": {
          "base_uri": "https://localhost:8080/"
        },
        "id": "11Wkk56PXXtO",
        "outputId": "103b8be6-4376-4ab8-9192-20f328f85552"
      },
      "execution_count": null,
      "outputs": [
        {
          "output_type": "stream",
          "name": "stdout",
          "text": [
            "30.0\n"
          ]
        }
      ]
    },
    {
      "cell_type": "code",
      "source": [
        "percentage_of_students_below_75 = np.mean(grades < 75) * 100\n",
        "print(percentage_of_students_below_75)"
      ],
      "metadata": {
        "colab": {
          "base_uri": "https://localhost:8080/"
        },
        "id": "8PWFhCcyZBEs",
        "outputId": "d5d3fd1b-4240-43f5-b182-2e8ae7292e6d"
      },
      "execution_count": null,
      "outputs": [
        {
          "output_type": "stream",
          "name": "stdout",
          "text": [
            "0.0\n"
          ]
        }
      ]
    },
    {
      "cell_type": "code",
      "source": [
        "high_performers = grades[grades > 90]\n",
        "print(high_performers)"
      ],
      "metadata": {
        "colab": {
          "base_uri": "https://localhost:8080/"
        },
        "id": "CegQDROXZjvI",
        "outputId": "33e4bfd7-0876-4ecf-cd1c-0d630581bec7"
      },
      "execution_count": null,
      "outputs": [
        {
          "output_type": "stream",
          "name": "stdout",
          "text": [
            "[92 95 98]\n"
          ]
        }
      ]
    },
    {
      "cell_type": "code",
      "source": [
        "passing_grades = grades[grades > 75]\n",
        "print(passing_grades)"
      ],
      "metadata": {
        "colab": {
          "base_uri": "https://localhost:8080/"
        },
        "id": "SXGWo2andupO",
        "outputId": "9001c7b0-36b9-4b10-d191-0bf802f133c1"
      },
      "execution_count": null,
      "outputs": [
        {
          "output_type": "stream",
          "name": "stdout",
          "text": [
            "[85 90 88 92 95 80 98 89 83]\n"
          ]
        }
      ]
    }
  ]
}